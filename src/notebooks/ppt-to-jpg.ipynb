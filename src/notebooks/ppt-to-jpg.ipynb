{
 "cells": [
  {
   "cell_type": "code",
   "execution_count": 12,
   "metadata": {},
   "outputs": [
    {
     "name": "stdout",
     "output_type": "stream",
     "text": [
      "C:\\Users\\61052067\\data\\pptread\\life_sciences_regulatory_101\n"
     ]
    }
   ],
   "source": [
    "import os\n",
    "import os\n",
    "import sys\n",
    "import logging\n",
    "from dotenv import load_dotenv\n",
    "from pathlib import Path\n",
    "import win32com.client\n",
    "import re\n",
    "\n",
    "# Combining imports from the same module/package\n",
    "from llama_index import (\n",
    "    VectorStoreIndex, ServiceContext,  set_global_service_context\n",
    ")\n",
    "from llama_index.llms import AzureOpenAI\n",
    "from llama_index.embeddings import AzureOpenAIEmbedding\n",
    "from llama_index.readers import SimpleDirectoryReader\n",
    "from llama_index.node_parser import UnstructuredElementNodeParser\n",
    "from llama_index.readers.file.flat_reader import FlatReader\n",
    "from llama_index.schema import IndexNode\n",
    "from llama_index.tools import QueryEngineTool, ToolMetadata\n",
    "from llama_index.agent import OpenAIAgent\n",
    "\n",
    "load_dotenv(override=True)\n",
    "\n",
    "logging.basicConfig(\n",
    "    # stream=sys.stdout, level=logging.DEBUG\n",
    "    stream=sys.stdout, level=logging.INFO\n",
    "\n",
    ")  # logging.DEBUG for more verbose output\n",
    "logging.getLogger().addHandler(logging.StreamHandler(stream=sys.stdout))\n",
    "\n",
    "root_folder_path = Path(\"C:/Users/61052067/data/pptread\")\n",
    "ppt_file_name = \"Life Sciences Regulatory 101.pptx\"\n",
    "ppt_file_path = root_folder_path / ppt_file_name\n",
    "output_folder_name = re.sub('[^0-9a-zA-Z]+', '_', os.path.splitext(ppt_file_name)[0].lower())\n",
    "\n",
    "# Check if the directory exists, if not, create it\n",
    "output_folder_path = root_folder_path/ output_folder_name\n",
    "\n",
    "if not os.path.exists(output_folder_path):\n",
    "    os.makedirs(output_folder_path)\n",
    "\n",
    "print(output_folder_path)\n"
   ]
  },
  {
   "cell_type": "code",
   "execution_count": null,
   "metadata": {},
   "outputs": [],
   "source": [
    "# import aspose.slides as slides\n",
    "# import aspose.pydrawing as drawing\n",
    "\n",
    "# with slides.Presentation(inputFilePath) as presentation:\n",
    "#     for slide in presentation.slides:\n",
    "#         slide.get_thumbnail(2, 2).save(\"presentation_slide_{0}.jpg\".format(str(slide.slide_number)), drawing.imaging.ImageFormat.jpeg)"
   ]
  },
  {
   "cell_type": "code",
   "execution_count": 13,
   "metadata": {},
   "outputs": [
    {
     "name": "stdout",
     "output_type": "stream",
     "text": [
      "C:\\Users\\61052067\\data\\pptread\\life_sciences_regulatory_101\n"
     ]
    }
   ],
   "source": [
    "import os\n",
    "from pathlib import Path\n",
    "\n",
    "powerpoint = win32com.client.Dispatch(\"PowerPoint.Application\")\n",
    "\n",
    "# Open the PowerPoint file\n",
    "# presentation_path = \"path_to_your_presentation.pptx\"  # Update this path\n",
    "presentation = powerpoint.Presentations.Open(ppt_file_path)\n",
    "\n",
    "# Make sure the script waits until the presentation is fully loaded\n",
    "powerpoint.Visible = True\n",
    "\n",
    "# Path where you want to save the JPEG files\n",
    "if not os.path.exists(output_folder_path):\n",
    "    os.makedirs(output_folder_path)\n",
    "\n",
    "print(output_folder_path)\n",
    "# Loop through each slide in the presentation and save as JPEG\n",
    "for i, slide in enumerate(presentation.Slides):\n",
    "    slide_name = f\"slide_{i+1}.jpg\"\n",
    "    slide.Export(output_folder_path / slide_name, \"JPG\")\n",
    "\n",
    "# Clean up the PowerPoint application\n",
    "presentation.Close()\n",
    "powerpoint.Quit()\n"
   ]
  }
 ],
 "metadata": {
  "kernelspec": {
   "display_name": "pdfread",
   "language": "python",
   "name": "python3"
  },
  "language_info": {
   "codemirror_mode": {
    "name": "ipython",
    "version": 3
   },
   "file_extension": ".py",
   "mimetype": "text/x-python",
   "name": "python",
   "nbconvert_exporter": "python",
   "pygments_lexer": "ipython3",
   "version": "3.11.5"
  }
 },
 "nbformat": 4,
 "nbformat_minor": 2
}
